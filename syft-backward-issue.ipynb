{
 "cells": [
  {
   "cell_type": "code",
   "execution_count": 1,
   "id": "c8f7bf2f",
   "metadata": {},
   "outputs": [
    {
     "name": "stdout",
     "output_type": "stream",
     "text": [
      "0.5.0\n",
      "1.8.1+cpu\n"
     ]
    }
   ],
   "source": [
    "import torch\n",
    "import syft as sy\n",
    "import pandas as pd\n",
    "from syft.lib.python.list import List\n",
    "print(sy.__version__)\n",
    "print(torch.__version__)"
   ]
  },
  {
   "cell_type": "code",
   "execution_count": 27,
   "id": "78bd810b",
   "metadata": {},
   "outputs": [],
   "source": [
    "import numpy as np\n",
    "import torch as th\n",
    "import pandas as pd\n",
    "from PIL import Image\n",
    "import imageio.v2 as imageio\n",
    "from sklearn.model_selection import train_test_split\n",
    "from sklearn.preprocessing import LabelEncoder\n",
    "from torch.utils.data import TensorDataset,DataLoader"
   ]
  },
  {
   "cell_type": "code",
   "execution_count": 3,
   "id": "5ebf3b91",
   "metadata": {},
   "outputs": [],
   "source": [
    "df =pd.read_csv('HAM10000_metadata.csv')"
   ]
  },
  {
   "cell_type": "code",
   "execution_count": 4,
   "id": "8e3356f3",
   "metadata": {},
   "outputs": [],
   "source": [
    "target = ['akiec', 'bcc', 'bkl', 'df', 'mel', 'nv', 'vasc']"
   ]
  },
  {
   "cell_type": "code",
   "execution_count": 5,
   "id": "982c39d2",
   "metadata": {},
   "outputs": [],
   "source": [
    "subset_metadata_a = df.sample(frac=0.2, random_state=42) "
   ]
  },
  {
   "cell_type": "code",
   "execution_count": 6,
   "id": "abc175fd",
   "metadata": {},
   "outputs": [],
   "source": [
    "num_samples_per_label_a = 200                                                 ## 200 sample for each class\n",
    "balanced_sub_a = pd.DataFrame()\n",
    "for label in target:\n",
    "    label_metadata_a = subset_metadata_a[subset_metadata_a['dx'] == label]\n",
    "    label_samples_a = label_metadata_a.sample(n=num_samples_per_label_a, random_state=42, replace = True)\n",
    "    balanced_sub_a = pd.concat([balanced_sub_a, label_samples_a])"
   ]
  },
  {
   "cell_type": "code",
   "execution_count": 7,
   "id": "e1e53b16",
   "metadata": {},
   "outputs": [],
   "source": [
    "size = (64, 64)\n",
    "images_sub_a = []\n",
    "for i, row in balanced_sub_a.iterrows():\n",
    "    img_a = imageio.imread('HAM_data//HAM10000/' + row['image_id'] + '.jpg')\n",
    "    resized_img = np.array(Image.fromarray(img_a).resize(size))\n",
    "    images_sub_a.append(resized_img)"
   ]
  },
  {
   "cell_type": "code",
   "execution_count": 8,
   "id": "89f8eab0",
   "metadata": {},
   "outputs": [],
   "source": [
    "images_and_labels_sub_a = []\n",
    "for i, row in balanced_sub_a.iterrows():\n",
    "    img_b = imageio.imread('HAM_data/HAM10000/' + row['image_id'] + '.jpg')\n",
    "    resized_img = np.array(Image.fromarray(img_b).resize(size))\n",
    "    label = row['dx']\n",
    "    images_and_labels_sub_a.append((resized_img, label))"
   ]
  },
  {
   "cell_type": "code",
   "execution_count": 9,
   "id": "a38dadf1",
   "metadata": {},
   "outputs": [
    {
     "name": "stdout",
     "output_type": "stream",
     "text": [
      "Image shape: (1400, 64, 64, 3)\n",
      "Label shape: (1400,)\n"
     ]
    }
   ],
   "source": [
    "images_sub_a, labels_sub_a = zip(*images_and_labels_sub_a)\n",
    "images_sub_a = np.array(images_sub_a)\n",
    "labels_sub_a = np.array(labels_sub_a)\n",
    "\n",
    "# Print the shapes of the resulting arrays\n",
    "print('Image shape:', images_sub_a.shape)\n",
    "print('Label shape:', labels_sub_a.shape)"
   ]
  },
  {
   "cell_type": "code",
   "execution_count": 10,
   "id": "5892dc9e",
   "metadata": {},
   "outputs": [],
   "source": [
    "label_encoder = LabelEncoder()\n",
    "labels_encoded = label_encoder.fit_transform(labels_sub_a)"
   ]
  },
  {
   "cell_type": "code",
   "execution_count": 14,
   "id": "a5a08936",
   "metadata": {},
   "outputs": [],
   "source": [
    "image_tensor = th.FloatTensor(images_sub_a.astype('float32'))\n",
    "label_tensor = th.FloatTensor(labels_encoded.astype('float32'))"
   ]
  },
  {
   "cell_type": "code",
   "execution_count": 15,
   "id": "7a173c13",
   "metadata": {},
   "outputs": [],
   "source": [
    "import torchvision.transforms as transforms\n",
    "from PIL import Image\n",
    "import torch\n",
    "\n",
    "transform_train = transforms.Compose([\n",
    "    transforms.RandomCrop(64, padding=0),    \n",
    "    transforms.RandomHorizontalFlip(),    \n",
    "    transforms.ToTensor(),    \n",
    "    transforms.Normalize(mean=[0.5, 0.5, 0.5], std=[0.5, 0.5, 0.5])\n",
    "])\n",
    "\n",
    "transform_test = transforms.Compose([\n",
    "    transforms.ToTensor(),\n",
    "    transforms.Normalize(mean=[0.5, 0.5, 0.5], std=[0.5, 0.5, 0.5])\n",
    "])\n",
    "\n",
    "# Apply the transformations to the data\n",
    "x_train_transformed = []\n",
    "for img in images_sub_a:\n",
    "    img_pil = Image.fromarray(img)\n",
    "    img_transformed = transform_train(img_pil)\n",
    "    x_train_transformed.append(img_transformed)"
   ]
  },
  {
   "cell_type": "code",
   "execution_count": 16,
   "id": "0246cb5b",
   "metadata": {},
   "outputs": [],
   "source": [
    "x_train_transformed = torch.stack(x_train_transformed)"
   ]
  },
  {
   "cell_type": "code",
   "execution_count": 17,
   "id": "8d52a917",
   "metadata": {},
   "outputs": [],
   "source": [
    "x_train, x_test, y_train, y_test = train_test_split(x_train_transformed, label_tensor, train_size=0.7, random_state=2019)"
   ]
  },
  {
   "cell_type": "code",
   "execution_count": 28,
   "id": "cff5dc17",
   "metadata": {},
   "outputs": [],
   "source": [
    "train_dataset = TensorDataset(x_train, y_train)\n",
    "test_dataset= TensorDataset(x_test, y_test)"
   ]
  },
  {
   "cell_type": "code",
   "execution_count": 29,
   "id": "3dde35b5",
   "metadata": {},
   "outputs": [],
   "source": [
    "batch_size = 1400\n",
    "train_dataloader = DataLoader(train_dataset, batch_size=batch_size, shuffle=True)\n",
    "test_dataloader= DataLoader(test_dataset, batch_size = batch_size, shuffle=False)"
   ]
  },
  {
   "cell_type": "code",
   "execution_count": 18,
   "id": "6ab9ef6b",
   "metadata": {},
   "outputs": [],
   "source": [
    "server1 = sy.VirtualMachine(name=\"server1\")\n",
    "client1 = server1.get_root_client()\n",
    "remote_torch = client1.torch"
   ]
  },
  {
   "cell_type": "code",
   "execution_count": 19,
   "id": "09c7775a",
   "metadata": {},
   "outputs": [
    {
     "data": {
      "text/html": [
       "<div>\n",
       "<style scoped>\n",
       "    .dataframe tbody tr th:only-of-type {\n",
       "        vertical-align: middle;\n",
       "    }\n",
       "\n",
       "    .dataframe tbody tr th {\n",
       "        vertical-align: top;\n",
       "    }\n",
       "\n",
       "    .dataframe thead th {\n",
       "        text-align: right;\n",
       "    }\n",
       "</style>\n",
       "<table border=\"1\" class=\"dataframe\">\n",
       "  <thead>\n",
       "    <tr style=\"text-align: right;\">\n",
       "      <th></th>\n",
       "    </tr>\n",
       "  </thead>\n",
       "  <tbody>\n",
       "  </tbody>\n",
       "</table>\n",
       "</div>"
      ],
      "text/plain": [
       "Empty DataFrame\n",
       "Columns: []\n",
       "Index: []"
      ]
     },
     "execution_count": 19,
     "metadata": {},
     "output_type": "execute_result"
    }
   ],
   "source": [
    "client1.store.pandas"
   ]
  },
  {
   "cell_type": "code",
   "execution_count": 20,
   "id": "3fefb2a2",
   "metadata": {},
   "outputs": [],
   "source": [
    "class LeNet(sy.Module):\n",
    "    def __init__(self, torch_ref):\n",
    "        super(LeNet, self).__init__(torch_ref=torch_ref)\n",
    "        self.conv1 = torch_ref.nn.Conv2d(3, 6, kernel_size=5)\n",
    "        self.pool1 = torch_ref.nn.MaxPool2d(kernel_size=2)\n",
    "        self.conv2 = torch_ref.nn.Conv2d(6, 16, kernel_size=5)\n",
    "        self.pool2 = torch_ref.nn.MaxPool2d(kernel_size=2)\n",
    "        self.relu = torch_ref.nn.ReLU()\n",
    "        self.flat = torch_ref.nn.Flatten(start_dim=1)\n",
    "        self.fc1 = torch_ref.nn.Linear(16*13*13, 120)\n",
    "        self.fc2 = torch_ref.nn.Linear(120, 84)\n",
    "        self.fc3 = torch_ref.nn.Linear(84, 10)\n",
    "        \n",
    "    def forward(self, x):\n",
    "        x = self.pool1(self.relu(self.conv1(x)))\n",
    "        x = self.pool2(self.relu(self.conv2(x)))\n",
    "        x = self.flat(x)\n",
    "        x = self.relu(self.fc1(x))\n",
    "        x = self.relu(self.fc2(x))\n",
    "        x = self.fc3(x)\n",
    "        return x"
   ]
  },
  {
   "cell_type": "code",
   "execution_count": 21,
   "id": "8375c35d",
   "metadata": {},
   "outputs": [],
   "source": [
    "local_model = LeNet(torch)"
   ]
  },
  {
   "cell_type": "code",
   "execution_count": 22,
   "id": "14918a4f",
   "metadata": {},
   "outputs": [],
   "source": [
    "client1_model = local_model.send(client1)"
   ]
  },
  {
   "cell_type": "code",
   "execution_count": 23,
   "id": "f9cefb3f",
   "metadata": {},
   "outputs": [
    {
     "data": {
      "text/html": [
       "<div>\n",
       "<style scoped>\n",
       "    .dataframe tbody tr th:only-of-type {\n",
       "        vertical-align: middle;\n",
       "    }\n",
       "\n",
       "    .dataframe tbody tr th {\n",
       "        vertical-align: top;\n",
       "    }\n",
       "\n",
       "    .dataframe thead th {\n",
       "        text-align: right;\n",
       "    }\n",
       "</style>\n",
       "<table border=\"1\" class=\"dataframe\">\n",
       "  <thead>\n",
       "    <tr style=\"text-align: right;\">\n",
       "      <th></th>\n",
       "      <th>ID</th>\n",
       "      <th>Tags</th>\n",
       "      <th>Description</th>\n",
       "      <th>object_type</th>\n",
       "    </tr>\n",
       "  </thead>\n",
       "  <tbody>\n",
       "    <tr>\n",
       "      <th>0</th>\n",
       "      <td>&lt;UID: 60996ba46a354e408c295e1d1c39d703&gt;</td>\n",
       "      <td>[]</td>\n",
       "      <td></td>\n",
       "      <td>&lt;class 'torch.nn.modules.module.Module'&gt;</td>\n",
       "    </tr>\n",
       "    <tr>\n",
       "      <th>1</th>\n",
       "      <td>&lt;UID: 366e48e540874ca98196a09375221c20&gt;</td>\n",
       "      <td>[]</td>\n",
       "      <td></td>\n",
       "      <td>&lt;class 'torch.nn.modules.conv.Conv2d'&gt;</td>\n",
       "    </tr>\n",
       "    <tr>\n",
       "      <th>2</th>\n",
       "      <td>&lt;UID: e7d8b4c090364f578cb2c299697f3072&gt;</td>\n",
       "      <td>[]</td>\n",
       "      <td></td>\n",
       "      <td>&lt;class 'torch.nn.modules.pooling.MaxPool2d'&gt;</td>\n",
       "    </tr>\n",
       "    <tr>\n",
       "      <th>3</th>\n",
       "      <td>&lt;UID: ac8d6784690446cf867857662afe0337&gt;</td>\n",
       "      <td>[]</td>\n",
       "      <td></td>\n",
       "      <td>&lt;class 'torch.nn.modules.conv.Conv2d'&gt;</td>\n",
       "    </tr>\n",
       "    <tr>\n",
       "      <th>4</th>\n",
       "      <td>&lt;UID: 96fab7d2a9de4f53b1394bad2d0e06d7&gt;</td>\n",
       "      <td>[]</td>\n",
       "      <td></td>\n",
       "      <td>&lt;class 'torch.nn.modules.pooling.MaxPool2d'&gt;</td>\n",
       "    </tr>\n",
       "    <tr>\n",
       "      <th>5</th>\n",
       "      <td>&lt;UID: 9a311b9430da4f89b24625a99cc2476c&gt;</td>\n",
       "      <td>[]</td>\n",
       "      <td></td>\n",
       "      <td>&lt;class 'torch.nn.modules.activation.ReLU'&gt;</td>\n",
       "    </tr>\n",
       "    <tr>\n",
       "      <th>6</th>\n",
       "      <td>&lt;UID: 30bdd684e60f49bd9728626faa3545ce&gt;</td>\n",
       "      <td>[]</td>\n",
       "      <td></td>\n",
       "      <td>&lt;class 'torch.nn.modules.flatten.Flatten'&gt;</td>\n",
       "    </tr>\n",
       "    <tr>\n",
       "      <th>7</th>\n",
       "      <td>&lt;UID: e635102bde08493f8e4e6aee26074fed&gt;</td>\n",
       "      <td>[]</td>\n",
       "      <td></td>\n",
       "      <td>&lt;class 'torch.nn.modules.linear.Linear'&gt;</td>\n",
       "    </tr>\n",
       "    <tr>\n",
       "      <th>8</th>\n",
       "      <td>&lt;UID: 8491313f013f4cffbaff2984ed23dbfd&gt;</td>\n",
       "      <td>[]</td>\n",
       "      <td></td>\n",
       "      <td>&lt;class 'torch.nn.modules.linear.Linear'&gt;</td>\n",
       "    </tr>\n",
       "    <tr>\n",
       "      <th>9</th>\n",
       "      <td>&lt;UID: a2ff5da03f6f45fc85f6cd336f796184&gt;</td>\n",
       "      <td>[]</td>\n",
       "      <td></td>\n",
       "      <td>&lt;class 'torch.nn.modules.linear.Linear'&gt;</td>\n",
       "    </tr>\n",
       "  </tbody>\n",
       "</table>\n",
       "</div>"
      ],
      "text/plain": [
       "                                        ID Tags Description  \\\n",
       "0  <UID: 60996ba46a354e408c295e1d1c39d703>   []               \n",
       "1  <UID: 366e48e540874ca98196a09375221c20>   []               \n",
       "2  <UID: e7d8b4c090364f578cb2c299697f3072>   []               \n",
       "3  <UID: ac8d6784690446cf867857662afe0337>   []               \n",
       "4  <UID: 96fab7d2a9de4f53b1394bad2d0e06d7>   []               \n",
       "5  <UID: 9a311b9430da4f89b24625a99cc2476c>   []               \n",
       "6  <UID: 30bdd684e60f49bd9728626faa3545ce>   []               \n",
       "7  <UID: e635102bde08493f8e4e6aee26074fed>   []               \n",
       "8  <UID: 8491313f013f4cffbaff2984ed23dbfd>   []               \n",
       "9  <UID: a2ff5da03f6f45fc85f6cd336f796184>   []               \n",
       "\n",
       "                                    object_type  \n",
       "0      <class 'torch.nn.modules.module.Module'>  \n",
       "1        <class 'torch.nn.modules.conv.Conv2d'>  \n",
       "2  <class 'torch.nn.modules.pooling.MaxPool2d'>  \n",
       "3        <class 'torch.nn.modules.conv.Conv2d'>  \n",
       "4  <class 'torch.nn.modules.pooling.MaxPool2d'>  \n",
       "5    <class 'torch.nn.modules.activation.ReLU'>  \n",
       "6    <class 'torch.nn.modules.flatten.Flatten'>  \n",
       "7      <class 'torch.nn.modules.linear.Linear'>  \n",
       "8      <class 'torch.nn.modules.linear.Linear'>  \n",
       "9      <class 'torch.nn.modules.linear.Linear'>  "
      ]
     },
     "execution_count": 23,
     "metadata": {},
     "output_type": "execute_result"
    }
   ],
   "source": [
    "client1.store.pandas"
   ]
  },
  {
   "cell_type": "code",
   "execution_count": 24,
   "id": "88cf1ffa",
   "metadata": {},
   "outputs": [],
   "source": [
    "opt1 = remote_torch.optim.Adam(client1_model.parameters(), lr=0.01)"
   ]
  },
  {
   "cell_type": "code",
   "execution_count": 25,
   "id": "2aff31cf",
   "metadata": {},
   "outputs": [
    {
     "data": {
      "text/html": [
       "<div>\n",
       "<style scoped>\n",
       "    .dataframe tbody tr th:only-of-type {\n",
       "        vertical-align: middle;\n",
       "    }\n",
       "\n",
       "    .dataframe tbody tr th {\n",
       "        vertical-align: top;\n",
       "    }\n",
       "\n",
       "    .dataframe thead th {\n",
       "        text-align: right;\n",
       "    }\n",
       "</style>\n",
       "<table border=\"1\" class=\"dataframe\">\n",
       "  <thead>\n",
       "    <tr style=\"text-align: right;\">\n",
       "      <th></th>\n",
       "      <th>ID</th>\n",
       "      <th>Tags</th>\n",
       "      <th>Description</th>\n",
       "      <th>object_type</th>\n",
       "    </tr>\n",
       "  </thead>\n",
       "  <tbody>\n",
       "    <tr>\n",
       "      <th>0</th>\n",
       "      <td>&lt;UID: 60996ba46a354e408c295e1d1c39d703&gt;</td>\n",
       "      <td>[]</td>\n",
       "      <td></td>\n",
       "      <td>&lt;class 'torch.nn.modules.module.Module'&gt;</td>\n",
       "    </tr>\n",
       "    <tr>\n",
       "      <th>1</th>\n",
       "      <td>&lt;UID: 366e48e540874ca98196a09375221c20&gt;</td>\n",
       "      <td>[]</td>\n",
       "      <td></td>\n",
       "      <td>&lt;class 'torch.nn.modules.conv.Conv2d'&gt;</td>\n",
       "    </tr>\n",
       "    <tr>\n",
       "      <th>2</th>\n",
       "      <td>&lt;UID: e7d8b4c090364f578cb2c299697f3072&gt;</td>\n",
       "      <td>[]</td>\n",
       "      <td></td>\n",
       "      <td>&lt;class 'torch.nn.modules.pooling.MaxPool2d'&gt;</td>\n",
       "    </tr>\n",
       "    <tr>\n",
       "      <th>3</th>\n",
       "      <td>&lt;UID: ac8d6784690446cf867857662afe0337&gt;</td>\n",
       "      <td>[]</td>\n",
       "      <td></td>\n",
       "      <td>&lt;class 'torch.nn.modules.conv.Conv2d'&gt;</td>\n",
       "    </tr>\n",
       "    <tr>\n",
       "      <th>4</th>\n",
       "      <td>&lt;UID: 96fab7d2a9de4f53b1394bad2d0e06d7&gt;</td>\n",
       "      <td>[]</td>\n",
       "      <td></td>\n",
       "      <td>&lt;class 'torch.nn.modules.pooling.MaxPool2d'&gt;</td>\n",
       "    </tr>\n",
       "    <tr>\n",
       "      <th>5</th>\n",
       "      <td>&lt;UID: 9a311b9430da4f89b24625a99cc2476c&gt;</td>\n",
       "      <td>[]</td>\n",
       "      <td></td>\n",
       "      <td>&lt;class 'torch.nn.modules.activation.ReLU'&gt;</td>\n",
       "    </tr>\n",
       "    <tr>\n",
       "      <th>6</th>\n",
       "      <td>&lt;UID: 30bdd684e60f49bd9728626faa3545ce&gt;</td>\n",
       "      <td>[]</td>\n",
       "      <td></td>\n",
       "      <td>&lt;class 'torch.nn.modules.flatten.Flatten'&gt;</td>\n",
       "    </tr>\n",
       "    <tr>\n",
       "      <th>7</th>\n",
       "      <td>&lt;UID: e635102bde08493f8e4e6aee26074fed&gt;</td>\n",
       "      <td>[]</td>\n",
       "      <td></td>\n",
       "      <td>&lt;class 'torch.nn.modules.linear.Linear'&gt;</td>\n",
       "    </tr>\n",
       "    <tr>\n",
       "      <th>8</th>\n",
       "      <td>&lt;UID: 8491313f013f4cffbaff2984ed23dbfd&gt;</td>\n",
       "      <td>[]</td>\n",
       "      <td></td>\n",
       "      <td>&lt;class 'torch.nn.modules.linear.Linear'&gt;</td>\n",
       "    </tr>\n",
       "    <tr>\n",
       "      <th>9</th>\n",
       "      <td>&lt;UID: a2ff5da03f6f45fc85f6cd336f796184&gt;</td>\n",
       "      <td>[]</td>\n",
       "      <td></td>\n",
       "      <td>&lt;class 'torch.nn.modules.linear.Linear'&gt;</td>\n",
       "    </tr>\n",
       "    <tr>\n",
       "      <th>10</th>\n",
       "      <td>&lt;UID: 538465ce1b5046709a1ddf69722c41d3&gt;</td>\n",
       "      <td>[]</td>\n",
       "      <td></td>\n",
       "      <td>&lt;class 'torch.optim.adam.Adam'&gt;</td>\n",
       "    </tr>\n",
       "  </tbody>\n",
       "</table>\n",
       "</div>"
      ],
      "text/plain": [
       "                                         ID Tags Description  \\\n",
       "0   <UID: 60996ba46a354e408c295e1d1c39d703>   []               \n",
       "1   <UID: 366e48e540874ca98196a09375221c20>   []               \n",
       "2   <UID: e7d8b4c090364f578cb2c299697f3072>   []               \n",
       "3   <UID: ac8d6784690446cf867857662afe0337>   []               \n",
       "4   <UID: 96fab7d2a9de4f53b1394bad2d0e06d7>   []               \n",
       "5   <UID: 9a311b9430da4f89b24625a99cc2476c>   []               \n",
       "6   <UID: 30bdd684e60f49bd9728626faa3545ce>   []               \n",
       "7   <UID: e635102bde08493f8e4e6aee26074fed>   []               \n",
       "8   <UID: 8491313f013f4cffbaff2984ed23dbfd>   []               \n",
       "9   <UID: a2ff5da03f6f45fc85f6cd336f796184>   []               \n",
       "10  <UID: 538465ce1b5046709a1ddf69722c41d3>   []               \n",
       "\n",
       "                                     object_type  \n",
       "0       <class 'torch.nn.modules.module.Module'>  \n",
       "1         <class 'torch.nn.modules.conv.Conv2d'>  \n",
       "2   <class 'torch.nn.modules.pooling.MaxPool2d'>  \n",
       "3         <class 'torch.nn.modules.conv.Conv2d'>  \n",
       "4   <class 'torch.nn.modules.pooling.MaxPool2d'>  \n",
       "5     <class 'torch.nn.modules.activation.ReLU'>  \n",
       "6     <class 'torch.nn.modules.flatten.Flatten'>  \n",
       "7       <class 'torch.nn.modules.linear.Linear'>  \n",
       "8       <class 'torch.nn.modules.linear.Linear'>  \n",
       "9       <class 'torch.nn.modules.linear.Linear'>  \n",
       "10               <class 'torch.optim.adam.Adam'>  "
      ]
     },
     "execution_count": 25,
     "metadata": {},
     "output_type": "execute_result"
    }
   ],
   "source": [
    "client1.store.pandas"
   ]
  },
  {
   "cell_type": "code",
   "execution_count": 31,
   "id": "328b60e0",
   "metadata": {},
   "outputs": [
    {
     "name": "stderr",
     "output_type": "stream",
     "text": [
      "[2023-05-07T12:26:02.464403-0600][CRITICAL][logger]][27316] execute_action on torch.Tensor.backward failed due to missing object at: <UID: 1522888ebd7f4e7fb7e5d23e3099803d>\n",
      "[2023-05-07T12:26:02.464403-0600][CRITICAL][logger]][27316] <class 'syft.core.store.store_memory.MemoryStore'> __delitem__ error <UID: 197ed514df0c4e76acb759e317707581>.\n"
     ]
    },
    {
     "name": "stdout",
     "output_type": "stream",
     "text": [
      "epoch: 0 loss: 2.294703483581543\n"
     ]
    },
    {
     "name": "stderr",
     "output_type": "stream",
     "text": [
      "[2023-05-07T12:26:03.523207-0600][CRITICAL][logger]][27316] execute_action on torch.Tensor.backward failed due to missing object at: <UID: fa71de88b50e4469b558d56958d8e5ce>\n",
      "[2023-05-07T12:26:03.523207-0600][CRITICAL][logger]][27316] <class 'syft.core.store.store_memory.MemoryStore'> __delitem__ error <UID: 2056ed175e7d4a80a0cb261db1e88d84>.\n"
     ]
    },
    {
     "name": "stdout",
     "output_type": "stream",
     "text": [
      "epoch: 1 loss: 2.294703722000122\n"
     ]
    },
    {
     "name": "stderr",
     "output_type": "stream",
     "text": [
      "[2023-05-07T12:26:04.510024-0600][CRITICAL][logger]][27316] execute_action on torch.Tensor.backward failed due to missing object at: <UID: 058b431b529f4639871cfa04b54582f2>\n",
      "[2023-05-07T12:26:04.510024-0600][CRITICAL][logger]][27316] <class 'syft.core.store.store_memory.MemoryStore'> __delitem__ error <UID: e217e06c60524a9199b49dac5bfce966>.\n"
     ]
    },
    {
     "name": "stdout",
     "output_type": "stream",
     "text": [
      "epoch: 2 loss: 2.294701099395752\n"
     ]
    },
    {
     "name": "stderr",
     "output_type": "stream",
     "text": [
      "[2023-05-07T12:26:05.488491-0600][CRITICAL][logger]][27316] execute_action on torch.Tensor.backward failed due to missing object at: <UID: 5f4598d08ecc448dbf2decf742093255>\n",
      "[2023-05-07T12:26:05.491146-0600][CRITICAL][logger]][27316] <class 'syft.core.store.store_memory.MemoryStore'> __delitem__ error <UID: 59561c37e0714e6db28ed7f09a37abea>.\n"
     ]
    },
    {
     "name": "stdout",
     "output_type": "stream",
     "text": [
      "epoch: 3 loss: 2.294701337814331\n"
     ]
    },
    {
     "name": "stderr",
     "output_type": "stream",
     "text": [
      "[2023-05-07T12:26:06.462585-0600][CRITICAL][logger]][27316] execute_action on torch.Tensor.backward failed due to missing object at: <UID: 51b99cccdd0944849463b424e01650fe>\n",
      "[2023-05-07T12:26:06.462585-0600][CRITICAL][logger]][27316] <class 'syft.core.store.store_memory.MemoryStore'> __delitem__ error <UID: 8eef9b4289a7403491aa72ba65992b27>.\n"
     ]
    },
    {
     "name": "stdout",
     "output_type": "stream",
     "text": [
      "epoch: 4 loss: 2.2947044372558594\n"
     ]
    }
   ],
   "source": [
    "for epoch in range(5):\n",
    "    for i, batch in enumerate(train_dataloader):\n",
    "        image, label = batch\n",
    "\n",
    "        # Send data to the remote worker\n",
    "        image_ptr = image.send(client1)\n",
    "        label_ptr = label.send(client1)\n",
    "\n",
    "        # Perform forward pass on the remote model\n",
    "        output_ptr = client1_model(image_ptr)\n",
    "        output_ptr = output_ptr.detach()  # Detach the tensor\n",
    "\n",
    "        # Compute loss on the remote worker\n",
    "        loss = remote_torch.nn.CrossEntropyLoss()(output_ptr, label_ptr.long())\n",
    "\n",
    "        # Retrieve the loss back to the local worker\n",
    "        loss_val = loss.get()\n",
    "\n",
    "        # Perform backward pass on the local model\n",
    "        loss.backward()\n",
    "\n",
    "        # Update model parameters on the remote worker\n",
    "        opt1.step()\n",
    "\n",
    "        # Clear the gradients on the local model\n",
    "        opt1.zero_grad()\n",
    "\n",
    "        # Print the loss\n",
    "    print(f\"epoch: {epoch} loss: {loss_val}\")"
   ]
  },
  {
   "cell_type": "code",
   "execution_count": null,
   "id": "5ff5391f",
   "metadata": {},
   "outputs": [],
   "source": []
  }
 ],
 "metadata": {
  "kernelspec": {
   "display_name": "Python 3 (ipykernel)",
   "language": "python",
   "name": "python3"
  },
  "language_info": {
   "codemirror_mode": {
    "name": "ipython",
    "version": 3
   },
   "file_extension": ".py",
   "mimetype": "text/x-python",
   "name": "python",
   "nbconvert_exporter": "python",
   "pygments_lexer": "ipython3",
   "version": "3.9.16"
  }
 },
 "nbformat": 4,
 "nbformat_minor": 5
}
